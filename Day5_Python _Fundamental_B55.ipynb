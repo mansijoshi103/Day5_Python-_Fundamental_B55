{
 "cells": [
  {
   "cell_type": "code",
   "execution_count": null,
   "id": "093d57ff",
   "metadata": {},
   "outputs": [],
   "source": [
    "#Introduction to the list data type"
   ]
  },
  {
   "cell_type": "code",
   "execution_count": null,
   "id": "70183047",
   "metadata": {},
   "outputs": [],
   "source": [
    "1. Def:- A list is collection of items declared in particular order\n",
    "2. classfication :- It is mutable data type\n",
    "3. how to define list: By using square bracket[]."
   ]
  },
  {
   "cell_type": "code",
   "execution_count": null,
   "id": "628321f7",
   "metadata": {},
   "outputs": [],
   "source": []
  },
  {
   "cell_type": "code",
   "execution_count": 1,
   "id": "9fafd930",
   "metadata": {},
   "outputs": [],
   "source": [
    "students= [\"pradnesh\",\"mansi\",\"sayali\",\"sampada\",\"aarav\"]"
   ]
  },
  {
   "cell_type": "code",
   "execution_count": 2,
   "id": "f65a88dc",
   "metadata": {},
   "outputs": [
    {
     "name": "stdout",
     "output_type": "stream",
     "text": [
      "['pradnesh', 'mansi', 'sayali', 'sampada', 'aarav']\n"
     ]
    }
   ],
   "source": [
    "print(students)"
   ]
  },
  {
   "cell_type": "code",
   "execution_count": null,
   "id": "d90ddfb1",
   "metadata": {},
   "outputs": [],
   "source": []
  },
  {
   "cell_type": "code",
   "execution_count": 3,
   "id": "7f5a991c",
   "metadata": {},
   "outputs": [
    {
     "data": {
      "text/plain": [
       "list"
      ]
     },
     "execution_count": 3,
     "metadata": {},
     "output_type": "execute_result"
    }
   ],
   "source": [
    "type(students)"
   ]
  },
  {
   "cell_type": "code",
   "execution_count": null,
   "id": "107c505b",
   "metadata": {},
   "outputs": [],
   "source": [
    "#Understanding the concept of indexing \n",
    "\n",
    "0,1,2,3,............n\n"
   ]
  },
  {
   "cell_type": "code",
   "execution_count": 4,
   "id": "36e54979",
   "metadata": {},
   "outputs": [
    {
     "name": "stdout",
     "output_type": "stream",
     "text": [
      "sampada\n"
     ]
    }
   ],
   "source": [
    "print(students[3])"
   ]
  },
  {
   "cell_type": "code",
   "execution_count": 5,
   "id": "75fc6e8e",
   "metadata": {},
   "outputs": [
    {
     "name": "stdout",
     "output_type": "stream",
     "text": [
      "pradnesh\n"
     ]
    }
   ],
   "source": [
    "print(students[0])"
   ]
  },
  {
   "cell_type": "code",
   "execution_count": 6,
   "id": "f53c5399",
   "metadata": {},
   "outputs": [
    {
     "ename": "IndexError",
     "evalue": "list index out of range",
     "output_type": "error",
     "traceback": [
      "\u001b[1;31m---------------------------------------------------------------------------\u001b[0m",
      "\u001b[1;31mIndexError\u001b[0m                                Traceback (most recent call last)",
      "\u001b[1;32m~\\AppData\\Local\\Temp/ipykernel_11892/4205841889.py\u001b[0m in \u001b[0;36m<module>\u001b[1;34m\u001b[0m\n\u001b[1;32m----> 1\u001b[1;33m \u001b[0mprint\u001b[0m\u001b[1;33m(\u001b[0m\u001b[0mstudents\u001b[0m\u001b[1;33m[\u001b[0m\u001b[1;36m5\u001b[0m\u001b[1;33m]\u001b[0m\u001b[1;33m)\u001b[0m\u001b[1;33m\u001b[0m\u001b[1;33m\u001b[0m\u001b[0m\n\u001b[0m",
      "\u001b[1;31mIndexError\u001b[0m: list index out of range"
     ]
    }
   ],
   "source": [
    "print(students[5])  //this error because of list index is out of range "
   ]
  },
  {
   "cell_type": "code",
   "execution_count": null,
   "id": "0c23a52b",
   "metadata": {},
   "outputs": [],
   "source": []
  },
  {
   "cell_type": "code",
   "execution_count": null,
   "id": "2faf4305",
   "metadata": {},
   "outputs": [],
   "source": [
    "#how add the element inthe list"
   ]
  },
  {
   "cell_type": "code",
   "execution_count": null,
   "id": "41d76efe",
   "metadata": {},
   "outputs": [],
   "source": [
    "#append:- add element to the last position in the list \n",
    "#insert:- add element in the location where we want "
   ]
  },
  {
   "cell_type": "code",
   "execution_count": 7,
   "id": "94b8770a",
   "metadata": {},
   "outputs": [
    {
     "name": "stdout",
     "output_type": "stream",
     "text": [
      "['pradnesh', 'mansi', 'sayali', 'sampada', 'aarav', 'pransi']\n"
     ]
    }
   ],
   "source": [
    "students.append(\"pransi\")\n",
    "print(students)"
   ]
  },
  {
   "cell_type": "code",
   "execution_count": 8,
   "id": "60197c2e",
   "metadata": {},
   "outputs": [
    {
     "name": "stdout",
     "output_type": "stream",
     "text": [
      "['pradnesh', 'mansi', 'sayali', 'sampada', 'aarav', 'pransi', 'sweetu']\n"
     ]
    }
   ],
   "source": [
    "students.append(\"sweetu\")\n",
    "print(students)"
   ]
  },
  {
   "cell_type": "code",
   "execution_count": null,
   "id": "6a113a06",
   "metadata": {},
   "outputs": [],
   "source": []
  },
  {
   "cell_type": "code",
   "execution_count": 9,
   "id": "3ee7d8e4",
   "metadata": {},
   "outputs": [
    {
     "name": "stdout",
     "output_type": "stream",
     "text": [
      "['pradnesh', 'mansi', 'chinya', 'sayali', 'sampada', 'aarav', 'pransi', 'sweetu']\n"
     ]
    }
   ],
   "source": [
    "students.insert(2,\"chinya\")\n",
    "print(students)"
   ]
  },
  {
   "cell_type": "code",
   "execution_count": 10,
   "id": "e835ee6e",
   "metadata": {},
   "outputs": [
    {
     "name": "stdout",
     "output_type": "stream",
     "text": [
      "['cuta', 'pradnesh', 'mansi', 'chinya', 'sayali', 'sampada', 'aarav', 'pransi', 'sweetu']\n"
     ]
    }
   ],
   "source": [
    "students.insert(0,\"cuta\")\n",
    "print(students)"
   ]
  },
  {
   "cell_type": "code",
   "execution_count": null,
   "id": "600e25c7",
   "metadata": {},
   "outputs": [],
   "source": []
  },
  {
   "cell_type": "code",
   "execution_count": null,
   "id": "22834646",
   "metadata": {},
   "outputs": [],
   "source": [
    "#how to modify the element in the list"
   ]
  },
  {
   "cell_type": "code",
   "execution_count": 15,
   "id": "08f8c3d3",
   "metadata": {},
   "outputs": [],
   "source": [
    "#modify -chinya --->sahisha"
   ]
  },
  {
   "cell_type": "code",
   "execution_count": 13,
   "id": "24a835bc",
   "metadata": {},
   "outputs": [
    {
     "name": "stdout",
     "output_type": "stream",
     "text": [
      "['cuta', 'pradnesh', 'mansi', 'sahisha', 'sayali', 'sampada', 'aarav', 'pransi', 'sweetu']\n"
     ]
    }
   ],
   "source": [
    "students[3]=(\"sahisha\")\n",
    "print(students)\n"
   ]
  },
  {
   "cell_type": "code",
   "execution_count": null,
   "id": "9a1f202b",
   "metadata": {},
   "outputs": [],
   "source": []
  },
  {
   "cell_type": "code",
   "execution_count": null,
   "id": "16c60ecd",
   "metadata": {},
   "outputs": [],
   "source": [
    "#how to delete element from the list.."
   ]
  },
  {
   "cell_type": "code",
   "execution_count": 20,
   "id": "01934848",
   "metadata": {},
   "outputs": [
    {
     "name": "stdout",
     "output_type": "stream",
     "text": [
      "['cuta', 'pradnesh', 'mansi', 'sahisha', 'sayali', 'sampada', 'aarav', 'pransi']\n"
     ]
    }
   ],
   "source": [
    "del students[8]\n",
    "print(students)"
   ]
  },
  {
   "cell_type": "code",
   "execution_count": 21,
   "id": "8b4544e8",
   "metadata": {},
   "outputs": [
    {
     "name": "stdout",
     "output_type": "stream",
     "text": [
      "['cuta', 'pradnesh', 'mansi', 'sahisha', 'sayali', 'aarav', 'pransi']\n"
     ]
    }
   ],
   "source": [
    "del students[5]\n",
    "print(students)"
   ]
  },
  {
   "cell_type": "code",
   "execution_count": null,
   "id": "6ea84a99",
   "metadata": {},
   "outputs": [],
   "source": []
  },
  {
   "cell_type": "code",
   "execution_count": null,
   "id": "99dd7278",
   "metadata": {},
   "outputs": [],
   "source": [
    "#organising the list data type"
   ]
  },
  {
   "cell_type": "code",
   "execution_count": null,
   "id": "b61db94a",
   "metadata": {},
   "outputs": [],
   "source": [
    "#i want to get output in the alphabetic order"
   ]
  },
  {
   "cell_type": "code",
   "execution_count": null,
   "id": "1932f6d5",
   "metadata": {},
   "outputs": [],
   "source": [
    "1)team approch ---> sorted -->we can get the original order of the list asiigned initially\n",
    "\n",
    "2)permanent approch --> sort ---> change in list is appied permanaently"
   ]
  },
  {
   "cell_type": "code",
   "execution_count": null,
   "id": "49fb57e3",
   "metadata": {},
   "outputs": [],
   "source": []
  },
  {
   "cell_type": "code",
   "execution_count": 23,
   "id": "aa1da856",
   "metadata": {},
   "outputs": [
    {
     "name": "stdout",
     "output_type": "stream",
     "text": [
      "['cuta', 'pradnesh', 'mansi', 'sahisha', 'sayali', 'aarav', 'pransi']\n"
     ]
    }
   ],
   "source": [
    "print(students)"
   ]
  },
  {
   "cell_type": "code",
   "execution_count": 24,
   "id": "75357e0f",
   "metadata": {},
   "outputs": [
    {
     "name": "stdout",
     "output_type": "stream",
     "text": [
      "['aarav', 'cuta', 'mansi', 'pradnesh', 'pransi', 'sahisha', 'sayali']\n"
     ]
    }
   ],
   "source": [
    "print(sorted(students))"
   ]
  },
  {
   "cell_type": "code",
   "execution_count": 25,
   "id": "05ecdda8",
   "metadata": {},
   "outputs": [
    {
     "name": "stdout",
     "output_type": "stream",
     "text": [
      "['cuta', 'pradnesh', 'mansi', 'sahisha', 'sayali', 'aarav', 'pransi']\n"
     ]
    }
   ],
   "source": [
    "print(students)"
   ]
  },
  {
   "cell_type": "code",
   "execution_count": null,
   "id": "357a64f5",
   "metadata": {},
   "outputs": [],
   "source": []
  },
  {
   "cell_type": "code",
   "execution_count": 27,
   "id": "a0d1677a",
   "metadata": {},
   "outputs": [
    {
     "name": "stdout",
     "output_type": "stream",
     "text": [
      "['aarav', 'cuta', 'mansi', 'pradnesh', 'pransi', 'sahisha', 'sayali']\n"
     ]
    }
   ],
   "source": [
    "students.sort()\n",
    "print(students)"
   ]
  },
  {
   "cell_type": "code",
   "execution_count": null,
   "id": "decc3bfd",
   "metadata": {},
   "outputs": [],
   "source": []
  },
  {
   "cell_type": "code",
   "execution_count": 29,
   "id": "052ee557",
   "metadata": {},
   "outputs": [
    {
     "name": "stdout",
     "output_type": "stream",
     "text": [
      "['aarav', 'cuta', 'mansi', 'pradnesh', 'pransi', 'sahisha', 'sayali']\n"
     ]
    }
   ],
   "source": [
    "print(students)"
   ]
  },
  {
   "cell_type": "code",
   "execution_count": null,
   "id": "39618c1a",
   "metadata": {},
   "outputs": [],
   "source": []
  },
  {
   "cell_type": "code",
   "execution_count": null,
   "id": "c9d6461b",
   "metadata": {},
   "outputs": [],
   "source": [
    "# reverse th elist"
   ]
  },
  {
   "cell_type": "code",
   "execution_count": 30,
   "id": "ea6a25ae",
   "metadata": {},
   "outputs": [
    {
     "name": "stdout",
     "output_type": "stream",
     "text": [
      "['sayali', 'sahisha', 'pransi', 'pradnesh', 'mansi', 'cuta', 'aarav']\n"
     ]
    }
   ],
   "source": [
    "students.reverse()\n",
    "print(students)"
   ]
  },
  {
   "cell_type": "code",
   "execution_count": null,
   "id": "414bb02a",
   "metadata": {},
   "outputs": [],
   "source": []
  },
  {
   "cell_type": "code",
   "execution_count": null,
   "id": "79a59f8d",
   "metadata": {},
   "outputs": [],
   "source": [
    "# length of the list "
   ]
  },
  {
   "cell_type": "code",
   "execution_count": 31,
   "id": "24ef2297",
   "metadata": {},
   "outputs": [
    {
     "data": {
      "text/plain": [
       "7"
      ]
     },
     "execution_count": 31,
     "metadata": {},
     "output_type": "execute_result"
    }
   ],
   "source": [
    "len(students)"
   ]
  },
  {
   "cell_type": "code",
   "execution_count": null,
   "id": "e56e60e1",
   "metadata": {},
   "outputs": [],
   "source": [
    "# INTRODUCTION TO SLICING OF LISTS"
   ]
  },
  {
   "cell_type": "code",
   "execution_count": null,
   "id": "924bdf15",
   "metadata": {},
   "outputs": [],
   "source": [
    "syntax:-  list_name[startvalue: stopvalue : stepcount]"
   ]
  },
  {
   "cell_type": "code",
   "execution_count": null,
   "id": "a6aed94f",
   "metadata": {},
   "outputs": [],
   "source": [
    "#stop value is always exclusive"
   ]
  },
  {
   "cell_type": "code",
   "execution_count": 32,
   "id": "f35b0f9e",
   "metadata": {},
   "outputs": [
    {
     "name": "stdout",
     "output_type": "stream",
     "text": [
      "['sayali', 'sahisha']\n"
     ]
    }
   ],
   "source": [
    "print(students[0:2])"
   ]
  },
  {
   "cell_type": "code",
   "execution_count": null,
   "id": "1793f207",
   "metadata": {},
   "outputs": [],
   "source": [
    "print(students[0:2])"
   ]
  },
  {
   "cell_type": "code",
   "execution_count": null,
   "id": "e5514996",
   "metadata": {},
   "outputs": [],
   "source": []
  },
  {
   "cell_type": "code",
   "execution_count": null,
   "id": "df41a695",
   "metadata": {},
   "outputs": [],
   "source": []
  },
  {
   "cell_type": "code",
   "execution_count": null,
   "id": "bd1a4b70",
   "metadata": {},
   "outputs": [],
   "source": []
  },
  {
   "cell_type": "code",
   "execution_count": null,
   "id": "6d8010f9",
   "metadata": {},
   "outputs": [],
   "source": []
  },
  {
   "cell_type": "code",
   "execution_count": 33,
   "id": "9037cfc6",
   "metadata": {},
   "outputs": [
    {
     "name": "stdout",
     "output_type": "stream",
     "text": [
      "['sayali', 'sahisha', 'pransi', 'pradnesh', 'mansi', 'cuta', 'aarav']\n"
     ]
    }
   ],
   "source": [
    "print(students)"
   ]
  },
  {
   "cell_type": "code",
   "execution_count": 34,
   "id": "f29273f2",
   "metadata": {},
   "outputs": [
    {
     "name": "stdout",
     "output_type": "stream",
     "text": [
      "['aarav', 'cuta', 'mansi', 'pradnesh', 'pransi', 'sahisha', 'sayali']\n"
     ]
    }
   ],
   "source": [
    "students.sort()\n",
    "print(students)"
   ]
  },
  {
   "cell_type": "code",
   "execution_count": 35,
   "id": "9482bb00",
   "metadata": {},
   "outputs": [
    {
     "name": "stdout",
     "output_type": "stream",
     "text": [
      "['aarav', 'cuta', 'mansi', 'pradnesh', 'pransi']\n"
     ]
    }
   ],
   "source": [
    "print(students[0:5])"
   ]
  },
  {
   "cell_type": "code",
   "execution_count": 37,
   "id": "a702a6fd",
   "metadata": {},
   "outputs": [
    {
     "name": "stdout",
     "output_type": "stream",
     "text": [
      "['mansi', 'pradnesh', 'pransi']\n"
     ]
    }
   ],
   "source": [
    "print(students[2:5])"
   ]
  },
  {
   "cell_type": "code",
   "execution_count": 38,
   "id": "f4c76af7",
   "metadata": {},
   "outputs": [
    {
     "name": "stdout",
     "output_type": "stream",
     "text": [
      "['aarav']\n"
     ]
    }
   ],
   "source": [
    "print(students[0:2:5])"
   ]
  },
  {
   "cell_type": "code",
   "execution_count": 41,
   "id": "ca701c3b",
   "metadata": {},
   "outputs": [
    {
     "name": "stdout",
     "output_type": "stream",
     "text": [
      "['aarav']\n"
     ]
    }
   ],
   "source": [
    "print(students[0:2:5])"
   ]
  },
  {
   "cell_type": "code",
   "execution_count": 42,
   "id": "1f9f45fb",
   "metadata": {},
   "outputs": [
    {
     "name": "stdout",
     "output_type": "stream",
     "text": [
      "['aarav', 'mansi', 'pransi', 'sayali']\n"
     ]
    }
   ],
   "source": [
    "print(students[0:8:2])"
   ]
  },
  {
   "cell_type": "code",
   "execution_count": null,
   "id": "7fe425a4",
   "metadata": {},
   "outputs": [],
   "source": []
  }
 ],
 "metadata": {
  "kernelspec": {
   "display_name": "Python 3 (ipykernel)",
   "language": "python",
   "name": "python3"
  },
  "language_info": {
   "codemirror_mode": {
    "name": "ipython",
    "version": 3
   },
   "file_extension": ".py",
   "mimetype": "text/x-python",
   "name": "python",
   "nbconvert_exporter": "python",
   "pygments_lexer": "ipython3",
   "version": "3.9.7"
  }
 },
 "nbformat": 4,
 "nbformat_minor": 5
}
